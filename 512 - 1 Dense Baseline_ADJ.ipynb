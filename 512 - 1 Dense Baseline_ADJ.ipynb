{
  "nbformat": 4,
  "nbformat_minor": 0,
  "metadata": {
    "colab": {
      "name": "Baseline ADJ ",
      "provenance": [],
      "authorship_tag": "ABX9TyPGUeSLoKB/iKdhaT9ZAWib",
      "include_colab_link": true
    },
    "kernelspec": {
      "name": "python3",
      "display_name": "Python 3"
    },
    "language_info": {
      "name": "python"
    },
    "accelerator": "GPU"
  },
  "cells": [
    {
      "cell_type": "markdown",
      "metadata": {
        "id": "view-in-github",
        "colab_type": "text"
      },
      "source": [
        "<a href=\"https://colab.research.google.com/github/Mirand22/Results/blob/main/512%20-%201%20Dense%20Baseline_ADJ.ipynb\" target=\"_parent\"><img src=\"https://colab.research.google.com/assets/colab-badge.svg\" alt=\"Open In Colab\"/></a>"
      ]
    },
    {
      "cell_type": "code",
      "execution_count": 1,
      "metadata": {
        "id": "P21sI8WfU_40"
      },
      "outputs": [],
      "source": [
        "import numpy as np\n",
        "import matplotlib.pyplot as plt\n",
        "from pandas import read_csv\n",
        "import math\n",
        "import pandas as pd\n",
        "from keras.models import Sequential\n",
        "from keras.layers import Dense\n",
        "from sklearn.preprocessing import MinMaxScaler\n",
        "from sklearn.metrics import mean_squared_error\n",
        "from keras.callbacks import EarlyStopping\n",
        "from tensorflow import keras\n",
        "import tensorflow as tf"
      ]
    },
    {
      "cell_type": "code",
      "source": [
        "url = \"https://raw.githubusercontent.com/Mirand22/Results/main/ADJcsv.csv\"\n",
        "\n",
        "dataframe = pd.read_csv(url, usecols=[1]) "
      ],
      "metadata": {
        "id": "kfJzdnNiVO7B"
      },
      "execution_count": 2,
      "outputs": []
    },
    {
      "cell_type": "code",
      "source": [
        "dataframe.head()"
      ],
      "metadata": {
        "colab": {
          "base_uri": "https://localhost:8080/",
          "height": 206
        },
        "id": "K49L1COzWJHn",
        "outputId": "4c71f1dd-9ea3-44f6-bc16-a6c3bd9aa4ee"
      },
      "execution_count": 6,
      "outputs": [
        {
          "output_type": "execute_result",
          "data": {
            "text/plain": [
              "   monitored_ns=4;s=OPC_IX_Durchflusssensor\n",
              "0                                  0.000000\n",
              "1                                  0.147375\n",
              "2                                  0.294749\n",
              "3                                  0.442124\n",
              "4                                  0.589498"
            ],
            "text/html": [
              "\n",
              "  <div id=\"df-66e0ee07-9601-4300-abf6-99df5196d37a\">\n",
              "    <div class=\"colab-df-container\">\n",
              "      <div>\n",
              "<style scoped>\n",
              "    .dataframe tbody tr th:only-of-type {\n",
              "        vertical-align: middle;\n",
              "    }\n",
              "\n",
              "    .dataframe tbody tr th {\n",
              "        vertical-align: top;\n",
              "    }\n",
              "\n",
              "    .dataframe thead th {\n",
              "        text-align: right;\n",
              "    }\n",
              "</style>\n",
              "<table border=\"1\" class=\"dataframe\">\n",
              "  <thead>\n",
              "    <tr style=\"text-align: right;\">\n",
              "      <th></th>\n",
              "      <th>monitored_ns=4;s=OPC_IX_Durchflusssensor</th>\n",
              "    </tr>\n",
              "  </thead>\n",
              "  <tbody>\n",
              "    <tr>\n",
              "      <th>0</th>\n",
              "      <td>0.000000</td>\n",
              "    </tr>\n",
              "    <tr>\n",
              "      <th>1</th>\n",
              "      <td>0.147375</td>\n",
              "    </tr>\n",
              "    <tr>\n",
              "      <th>2</th>\n",
              "      <td>0.294749</td>\n",
              "    </tr>\n",
              "    <tr>\n",
              "      <th>3</th>\n",
              "      <td>0.442124</td>\n",
              "    </tr>\n",
              "    <tr>\n",
              "      <th>4</th>\n",
              "      <td>0.589498</td>\n",
              "    </tr>\n",
              "  </tbody>\n",
              "</table>\n",
              "</div>\n",
              "      <button class=\"colab-df-convert\" onclick=\"convertToInteractive('df-66e0ee07-9601-4300-abf6-99df5196d37a')\"\n",
              "              title=\"Convert this dataframe to an interactive table.\"\n",
              "              style=\"display:none;\">\n",
              "        \n",
              "  <svg xmlns=\"http://www.w3.org/2000/svg\" height=\"24px\"viewBox=\"0 0 24 24\"\n",
              "       width=\"24px\">\n",
              "    <path d=\"M0 0h24v24H0V0z\" fill=\"none\"/>\n",
              "    <path d=\"M18.56 5.44l.94 2.06.94-2.06 2.06-.94-2.06-.94-.94-2.06-.94 2.06-2.06.94zm-11 1L8.5 8.5l.94-2.06 2.06-.94-2.06-.94L8.5 2.5l-.94 2.06-2.06.94zm10 10l.94 2.06.94-2.06 2.06-.94-2.06-.94-.94-2.06-.94 2.06-2.06.94z\"/><path d=\"M17.41 7.96l-1.37-1.37c-.4-.4-.92-.59-1.43-.59-.52 0-1.04.2-1.43.59L10.3 9.45l-7.72 7.72c-.78.78-.78 2.05 0 2.83L4 21.41c.39.39.9.59 1.41.59.51 0 1.02-.2 1.41-.59l7.78-7.78 2.81-2.81c.8-.78.8-2.07 0-2.86zM5.41 20L4 18.59l7.72-7.72 1.47 1.35L5.41 20z\"/>\n",
              "  </svg>\n",
              "      </button>\n",
              "      \n",
              "  <style>\n",
              "    .colab-df-container {\n",
              "      display:flex;\n",
              "      flex-wrap:wrap;\n",
              "      gap: 12px;\n",
              "    }\n",
              "\n",
              "    .colab-df-convert {\n",
              "      background-color: #E8F0FE;\n",
              "      border: none;\n",
              "      border-radius: 50%;\n",
              "      cursor: pointer;\n",
              "      display: none;\n",
              "      fill: #1967D2;\n",
              "      height: 32px;\n",
              "      padding: 0 0 0 0;\n",
              "      width: 32px;\n",
              "    }\n",
              "\n",
              "    .colab-df-convert:hover {\n",
              "      background-color: #E2EBFA;\n",
              "      box-shadow: 0px 1px 2px rgba(60, 64, 67, 0.3), 0px 1px 3px 1px rgba(60, 64, 67, 0.15);\n",
              "      fill: #174EA6;\n",
              "    }\n",
              "\n",
              "    [theme=dark] .colab-df-convert {\n",
              "      background-color: #3B4455;\n",
              "      fill: #D2E3FC;\n",
              "    }\n",
              "\n",
              "    [theme=dark] .colab-df-convert:hover {\n",
              "      background-color: #434B5C;\n",
              "      box-shadow: 0px 1px 3px 1px rgba(0, 0, 0, 0.15);\n",
              "      filter: drop-shadow(0px 1px 2px rgba(0, 0, 0, 0.3));\n",
              "      fill: #FFFFFF;\n",
              "    }\n",
              "  </style>\n",
              "\n",
              "      <script>\n",
              "        const buttonEl =\n",
              "          document.querySelector('#df-66e0ee07-9601-4300-abf6-99df5196d37a button.colab-df-convert');\n",
              "        buttonEl.style.display =\n",
              "          google.colab.kernel.accessAllowed ? 'block' : 'none';\n",
              "\n",
              "        async function convertToInteractive(key) {\n",
              "          const element = document.querySelector('#df-66e0ee07-9601-4300-abf6-99df5196d37a');\n",
              "          const dataTable =\n",
              "            await google.colab.kernel.invokeFunction('convertToInteractive',\n",
              "                                                     [key], {});\n",
              "          if (!dataTable) return;\n",
              "\n",
              "          const docLinkHtml = 'Like what you see? Visit the ' +\n",
              "            '<a target=\"_blank\" href=https://colab.research.google.com/notebooks/data_table.ipynb>data table notebook</a>'\n",
              "            + ' to learn more about interactive tables.';\n",
              "          element.innerHTML = '';\n",
              "          dataTable['output_type'] = 'display_data';\n",
              "          await google.colab.output.renderOutput(dataTable, element);\n",
              "          const docLink = document.createElement('div');\n",
              "          docLink.innerHTML = docLinkHtml;\n",
              "          element.appendChild(docLink);\n",
              "        }\n",
              "      </script>\n",
              "    </div>\n",
              "  </div>\n",
              "  "
            ]
          },
          "metadata": {},
          "execution_count": 6
        }
      ]
    },
    {
      "cell_type": "code",
      "source": [
        "#Convert pandas dataframe to numpy array\n",
        "dataset = dataframe.values\n",
        "dataset = dataset.astype('float32') #Convert values to float"
      ],
      "metadata": {
        "id": "d0BB0LHtVx-m"
      },
      "execution_count": 3,
      "outputs": []
    },
    {
      "cell_type": "code",
      "source": [
        "#LSTM uses sigmoid and tanh that are sensitive to magnitude so values need to be normalized\n",
        "# normalize the dataset\n",
        "scaler = MinMaxScaler(feature_range=(0, 1)) #Also try QuantileTransformer\n",
        "dataset = scaler.fit_transform(dataset)"
      ],
      "metadata": {
        "id": "Q2ywA0S_VjEq"
      },
      "execution_count": 4,
      "outputs": []
    },
    {
      "cell_type": "code",
      "source": [
        "#We cannot use random way of splitting dataset into train and test as\n",
        "#the sequence of events is important for time series.\n",
        "#So let us take first 60% values for train and the remaining 1/3 for testing\n",
        "\n",
        "\n",
        "# split into train and test sets\n",
        "\n",
        "\n",
        "train_size = int(len(dataset) * 0.70)\n",
        "test_size = len(dataset) - train_size - int(len(dataset) * 0.15)\n",
        "val_size = len(dataset) - train_size - test_size\n",
        "\n",
        "train = dataset[0:train_size]\n",
        "val = dataset[train_size:train_size+val_size]\n",
        "test = dataset[train_size+val_size:len(dataset)]"
      ],
      "metadata": {
        "id": "FteHB4JzVyxI"
      },
      "execution_count": 5,
      "outputs": []
    },
    {
      "cell_type": "code",
      "source": [
        "def to_sequences(dataset, seq_size=1):\n",
        "    x = []\n",
        "    y = []\n",
        "\n",
        "    for i in range(len(dataset)-seq_size):\n",
        "        #print(i)\n",
        "        window = dataset[i:(i+seq_size), 0]\n",
        "        x.append(window)\n",
        "        y.append(dataset[i+seq_size, 0])\n",
        "        \n",
        "    return np.array(x),np.array(y)"
      ],
      "metadata": {
        "id": "qvpDEfwpV1du"
      },
      "execution_count": 8,
      "outputs": []
    },
    {
      "cell_type": "code",
      "source": [
        "seq_size = 512  # Number of time steps to look back \n",
        "#Larger sequences (look further back) may improve forecasting."
      ],
      "metadata": {
        "id": "6sr507qwV5VP"
      },
      "execution_count": 9,
      "outputs": []
    },
    {
      "cell_type": "code",
      "source": [
        "trainX, trainY = to_sequences(train, seq_size)\n",
        "valX, valY = to_sequences(val, seq_size)\n",
        "testX, testY = to_sequences(test, seq_size)"
      ],
      "metadata": {
        "id": "gQsp9UntV7O6"
      },
      "execution_count": 10,
      "outputs": []
    },
    {
      "cell_type": "code",
      "source": [
        "print(\"Shape of training set: {}\".format(trainX.shape))\n",
        "print(\"Shape of val set: {}\".format(valX.shape))\n",
        "print(\"Shape of test set: {}\".format(testX.shape))"
      ],
      "metadata": {
        "colab": {
          "base_uri": "https://localhost:8080/"
        },
        "id": "wdbRLc-jV9Pj",
        "outputId": "1963d793-1656-4395-b360-c7f6101aeda1"
      },
      "execution_count": 11,
      "outputs": [
        {
          "output_type": "stream",
          "name": "stdout",
          "text": [
            "Shape of training set: (315600, 512)\n",
            "Shape of val set: (67226, 512)\n",
            "Shape of test set: (67227, 512)\n"
          ]
        }
      ]
    },
    {
      "cell_type": "code",
      "source": [
        "#Input dimensions are... (N x seq_size)\n",
        "print('Build deep model...')\n",
        "# create and fit dense model\n",
        "model = Sequential()\n",
        "model.add(Dense(256, input_dim=seq_size, activation='relu')) #12\n",
        "\n",
        "model.add(Dense(1))\n",
        "model.compile(loss='mse', optimizer='adam', metrics = ['mse'])\n",
        "print(model.summary()) "
      ],
      "metadata": {
        "colab": {
          "base_uri": "https://localhost:8080/"
        },
        "id": "AzF3XRFcW3zI",
        "outputId": "401c5622-1f94-499f-99a5-e60c30588245"
      },
      "execution_count": 12,
      "outputs": [
        {
          "output_type": "stream",
          "name": "stdout",
          "text": [
            "Build deep model...\n",
            "Model: \"sequential\"\n",
            "_________________________________________________________________\n",
            " Layer (type)                Output Shape              Param #   \n",
            "=================================================================\n",
            " dense (Dense)               (None, 256)               131328    \n",
            "                                                                 \n",
            " dense_1 (Dense)             (None, 1)                 257       \n",
            "                                                                 \n",
            "=================================================================\n",
            "Total params: 131,585\n",
            "Trainable params: 131,585\n",
            "Non-trainable params: 0\n",
            "_________________________________________________________________\n",
            "None\n"
          ]
        }
      ]
    },
    {
      "cell_type": "code",
      "source": [
        "earlyStop = EarlyStopping(monitor='val_loss', min_delta=1e-3, patience=4, verbose=1, mode='auto', restore_best_weights=True)"
      ],
      "metadata": {
        "id": "SqMySbYwXTLX"
      },
      "execution_count": 13,
      "outputs": []
    },
    {
      "cell_type": "code",
      "source": [
        "# program to compute the time\n",
        "# of execution of any python code\n",
        "import time\n",
        "\n",
        "# we initialize the variable start\n",
        "# to store the starting time of\n",
        "# execution of program\n",
        "start = time.time()\n",
        "\n",
        "\n",
        "history = model.fit(trainX, trainY, validation_data=(valX, valY),\n",
        "          verbose=2, epochs=20, callbacks = [earlyStop])\n",
        "\n",
        "# now we have initialized the variable\n",
        "# end to store the ending time after\n",
        "# execution of program\n",
        "end = time.time()\n",
        "\n",
        "# difference of start and end variables\n",
        "# gives the time of execution of the\n",
        "# program in between\n",
        "print(\"The time of execution of above program is :\", end-start)"
      ],
      "metadata": {
        "colab": {
          "base_uri": "https://localhost:8080/"
        },
        "id": "InmG0cvTXWNb",
        "outputId": "ee35fcbd-ce43-4ad3-abc7-30cbc51acd37"
      },
      "execution_count": 14,
      "outputs": [
        {
          "output_type": "stream",
          "name": "stdout",
          "text": [
            "Epoch 1/20\n",
            "9863/9863 - 32s - loss: 0.0011 - mse: 0.0011 - val_loss: 5.7308e-04 - val_mse: 5.7308e-04 - 32s/epoch - 3ms/step\n",
            "Epoch 2/20\n",
            "9863/9863 - 28s - loss: 4.6741e-04 - mse: 4.6741e-04 - val_loss: 5.2939e-04 - val_mse: 5.2939e-04 - 28s/epoch - 3ms/step\n",
            "Epoch 3/20\n",
            "9863/9863 - 22s - loss: 3.9977e-04 - mse: 3.9977e-04 - val_loss: 4.4113e-04 - val_mse: 4.4113e-04 - 22s/epoch - 2ms/step\n",
            "Epoch 4/20\n",
            "9863/9863 - 21s - loss: 3.5429e-04 - mse: 3.5429e-04 - val_loss: 4.2535e-04 - val_mse: 4.2535e-04 - 21s/epoch - 2ms/step\n",
            "Epoch 5/20\n",
            "Restoring model weights from the end of the best epoch: 1.\n",
            "9863/9863 - 24s - loss: 3.2802e-04 - mse: 3.2802e-04 - val_loss: 4.3213e-04 - val_mse: 4.3213e-04 - 24s/epoch - 2ms/step\n",
            "Epoch 5: early stopping\n",
            "The time of execution of above program is : 127.87397336959839\n"
          ]
        }
      ]
    },
    {
      "cell_type": "code",
      "source": [
        "# make predictions\n",
        "\n",
        "trainPredict = model.predict(trainX)\n",
        "valPredict = model.predict(valX)\n",
        "testPredict = model.predict(testX)"
      ],
      "metadata": {
        "id": "N-rjCbBSXYUb"
      },
      "execution_count": 15,
      "outputs": []
    },
    {
      "cell_type": "code",
      "source": [
        "# invert predictions back to prescaled values\n",
        "#This is to compare with original input values\n",
        "#SInce we used minmaxscaler we can now use scaler.inverse_transform\n",
        "#to invert the transformation.\n",
        "trainPredict = scaler.inverse_transform(trainPredict)\n",
        "trainY = scaler.inverse_transform([trainY])\n",
        "testPredict = scaler.inverse_transform(testPredict)\n",
        "testY = scaler.inverse_transform([testY])"
      ],
      "metadata": {
        "id": "st9cMChnXa23"
      },
      "execution_count": 16,
      "outputs": []
    },
    {
      "cell_type": "code",
      "source": [
        "# calculate root mean squared error\n",
        "trainScore = math.sqrt(mean_squared_error(trainY[0], trainPredict[:,0]))\n",
        "print('Train Score: %.2f RMSE' % (trainScore))"
      ],
      "metadata": {
        "colab": {
          "base_uri": "https://localhost:8080/"
        },
        "id": "Hnmq3LyoXcNt",
        "outputId": "813fd008-9c4a-428b-bbd9-9ccdccc00b56"
      },
      "execution_count": 17,
      "outputs": [
        {
          "output_type": "stream",
          "name": "stdout",
          "text": [
            "Train Score: 1.26 RMSE\n"
          ]
        }
      ]
    },
    {
      "cell_type": "code",
      "source": [
        "testScore = math.sqrt(mean_squared_error(testY[0], testPredict[:,0]))\n",
        "print('Test Score: %.2f RMSE' % (testScore))"
      ],
      "metadata": {
        "colab": {
          "base_uri": "https://localhost:8080/"
        },
        "id": "ILlgdF8hXdbw",
        "outputId": "1e4abdf5-a8a7-40ec-ffeb-a73413ee6209"
      },
      "execution_count": 18,
      "outputs": [
        {
          "output_type": "stream",
          "name": "stdout",
          "text": [
            "Test Score: 1.38 RMSE\n"
          ]
        }
      ]
    },
    {
      "cell_type": "code",
      "source": [
        "plt.plot(history.history['loss'])\n",
        "plt.plot(history.history['val_loss'])\n",
        "plt.title('Model loss')\n",
        "plt.ylabel('loss')\n",
        "plt.xlabel('epoch')\n",
        "plt.legend(['train loss', 'validation loss'], loc='upper right')\n",
        "plt.rcParams[\"figure.figsize\"] = [16,9]\n",
        "plt.show()\n"
      ],
      "metadata": {
        "colab": {
          "base_uri": "https://localhost:8080/",
          "height": 295
        },
        "id": "fPRDrsoTXe1w",
        "outputId": "7b053660-13da-42f5-ba5a-04147e8b8e43"
      },
      "execution_count": 19,
      "outputs": [
        {
          "output_type": "display_data",
          "data": {
            "text/plain": [
              "<Figure size 432x288 with 1 Axes>"
            ],
            "image/png": "[encoded data removed]"
          },
          "metadata": {
            "needs_background": "light"
          }
        }
      ]
    },
    {
      "cell_type": "code",
      "source": [
        "from sklearn.metrics import r2_score\n",
        "\n",
        "\n",
        "r2score = r2_score(testY[0], testPredict[:,0])\n",
        "print(\"R^2 Score  = \",r2score)"
      ],
      "metadata": {
        "colab": {
          "base_uri": "https://localhost:8080/"
        },
        "id": "I-FiAYMyXgk2",
        "outputId": "d4d4755f-d39d-4a73-b0b9-d7d3bfb437c7"
      },
      "execution_count": 20,
      "outputs": [
        {
          "output_type": "stream",
          "name": "stdout",
          "text": [
            "R^2 Score  =  0.9873337733354708\n"
          ]
        }
      ]
    },
    {
      "cell_type": "code",
      "source": [
        ""
      ],
      "metadata": {
        "id": "XRd2qqa4XiT8"
      },
      "execution_count": null,
      "outputs": []
    }
  ]
}